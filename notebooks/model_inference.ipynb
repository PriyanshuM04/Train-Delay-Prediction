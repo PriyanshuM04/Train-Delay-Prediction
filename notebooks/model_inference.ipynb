{
 "cells": [
  {
   "cell_type": "markdown",
   "id": "6321d0df",
   "metadata": {},
   "source": [
    "# Model Inference"
   ]
  },
  {
   "cell_type": "markdown",
   "id": "ed99a751",
   "metadata": {},
   "source": [
    "#### Imports"
   ]
  },
  {
   "cell_type": "code",
   "execution_count": 2,
   "id": "99b97d87",
   "metadata": {},
   "outputs": [],
   "source": [
    "import joblib\n",
    "import pandas as pd\n",
    "import os\n",
    "import sys\n",
    "import sys, os\n",
    "sys.path.append(os.path.abspath(\"..\"))\n",
    "from data_fetching.fetch_external_data import get_weather, get_festival_impact"
   ]
  },
  {
   "cell_type": "markdown",
   "id": "1b19b6eb",
   "metadata": {},
   "source": [
    "#### Load Model and Columns"
   ]
  },
  {
   "cell_type": "code",
   "execution_count": 3,
   "id": "5c847289",
   "metadata": {},
   "outputs": [
    {
     "name": "stdout",
     "output_type": "stream",
     "text": [
      "✅ Model loaded successfully\n"
     ]
    }
   ],
   "source": [
    "# ---- Load Trained Model ----\n",
    "model = joblib.load(\"../models/delay_predictor.pkl\")\n",
    "print(\"✅ Model loaded successfully\")"
   ]
  },
  {
   "cell_type": "code",
   "execution_count": 4,
   "id": "b48853f8",
   "metadata": {},
   "outputs": [
    {
     "name": "stdout",
     "output_type": "stream",
     "text": [
      "Feature columns loaded: 11\n"
     ]
    }
   ],
   "source": [
    "# ---- Load Training Columns ----\n",
    "# (We need the same feature columns as used during training)\n",
    "training_data = pd.read_csv(\"../datasets/processed/final_clean_dataset.csv\")\n",
    "training_data = pd.get_dummies(training_data, columns=[\"FestivalImpact\", \"Weather\", \"TimeOfDay\"], drop_first=True)\n",
    "X_train_columns = training_data.drop(columns=[\"DelayMinutes\", \"Date\", \"StationName\", \"StationCode\", \"ArrivalTime\", \"DepartureTime\"]).columns\n",
    "print(f\"Feature columns loaded: {len(X_train_columns)}\")"
   ]
  },
  {
   "cell_type": "markdown",
   "id": "3d43eab7",
   "metadata": {},
   "source": [
    "#### Prediction Function"
   ]
  },
  {
   "cell_type": "code",
   "execution_count": null,
   "id": "ddb332e2",
   "metadata": {},
   "outputs": [],
   "source": [
    "def predict_delay(train_number, date):\n",
    "    \"\"\"\n",
    "    Predict delay for given train number & date using real APIs.\n",
    "    \"\"\"\n",
    "    # --- Load route data to get distance ---\n",
    "    routes = pd.read_csv(\"../datasets/processed/master_routes.csv\")\n",
    "    train_data = routes[routes[\"TrainNumber\"].astype(str) == str(train_number)]\n",
    "    if train_data.empty:\n",
    "        raise ValueError(f\"Train number {train_number} not found in routes data\")\n",
    "\n",
    "    distance = train_data[\"Distance\"].max()\n",
    "    city_name = train_data[\"StationName\"].iloc[0]  # use first station as reference\n",
    "    departure_time_str = train_data[\"DepartureTime\"].iloc[0]\n",
    "\n",
    "    # --- Fetch real-time weather and festival data ---\n",
    "    weather = get_weather(city_name, pd.to_datetime(date).date())\n",
    "    festival = get_festival_impact(pd.to_datetime(date).date())\n",
    "    if not festival:\n",
    "        festival = \"None\"\n",
    "    try:\n",
    "        departure_time = pd.to_datetime(departure_time_str, format=\"%H:%M:%S\")\n",
    "    except ValueError:\n",
    "        departure_time = pd.to_datetime(departure_time_str, format=\"%H:%M\")\n",
    "        \n",
    "    hour = departure_time.hour\n",
    "    if 4 <= hour < 9:\n",
    "        time_of_day = \"Morning\"\n",
    "    elif 9 <= hour < 18:\n",
    "        time_of_day = \"Day\"\n",
    "    elif 18 <= hour < 22:\n",
    "        time_of_day = \"Evening\"\n",
    "    else:\n",
    "        time_of_day = \"Night\"\n",
    "\n",
    "    # --- Prepare input dataframe ---\n",
    "    input_df = pd.DataFrame([{\n",
    "        \"Distance\": distance,\n",
    "        \"Weather\": weather,\n",
    "        \"FestivalImpact\": festival,\n",
    "        \"TimeOfDay\": time_of_day\n",
    "    }])\n",
    "\n",
    "    # --- One-hot encode & align columns ---\n",
    "    input_df = pd.get_dummies(input_df)\n",
    "    for col in X_train_columns:   # X_train_columns already computed earlier in your code\n",
    "        if col not in input_df.columns:\n",
    "            input_df[col] = 0\n",
    "    input_df = input_df[X_train_columns]\n",
    "\n",
    "    # --- Predict ---\n",
    "    prediction = model.predict(input_df)[0]\n",
    "    return prediction\n"
   ]
  },
  {
   "cell_type": "markdown",
   "id": "418ce622",
   "metadata": {},
   "source": [
    "#### Testing"
   ]
  },
  {
   "cell_type": "code",
   "execution_count": 7,
   "id": "9633a330",
   "metadata": {},
   "outputs": [
    {
     "name": "stdout",
     "output_type": "stream",
     "text": [
      "Predicted Delay: 26.01 minutes\n"
     ]
    }
   ],
   "source": [
    "predicted_delay = predict_delay(\"12305\", \"2024-08-15\")\n",
    "print(f\"Predicted Delay: {predicted_delay:.2f} minutes\")"
   ]
  },
  {
   "cell_type": "code",
   "execution_count": null,
   "id": "27054464",
   "metadata": {},
   "outputs": [],
   "source": []
  }
 ],
 "metadata": {
  "kernelspec": {
   "display_name": "Python 3",
   "language": "python",
   "name": "python3"
  },
  "language_info": {
   "codemirror_mode": {
    "name": "ipython",
    "version": 3
   },
   "file_extension": ".py",
   "mimetype": "text/x-python",
   "name": "python",
   "nbconvert_exporter": "python",
   "pygments_lexer": "ipython3",
   "version": "3.12.4"
  }
 },
 "nbformat": 4,
 "nbformat_minor": 5
}
