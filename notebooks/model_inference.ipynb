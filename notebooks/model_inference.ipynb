{
 "cells": [
  {
   "cell_type": "markdown",
   "id": "6321d0df",
   "metadata": {},
   "source": [
    "# Model Inference"
   ]
  },
  {
   "cell_type": "markdown",
   "id": "ed99a751",
   "metadata": {},
   "source": [
    "#### Imports"
   ]
  },
  {
   "cell_type": "code",
   "execution_count": 1,
   "id": "99b97d87",
   "metadata": {},
   "outputs": [],
   "source": [
    "import joblib\n",
    "import pandas as pd"
   ]
  },
  {
   "cell_type": "markdown",
   "id": "1b19b6eb",
   "metadata": {},
   "source": [
    "#### Load Model and Columns"
   ]
  },
  {
   "cell_type": "code",
   "execution_count": 2,
   "id": "5c847289",
   "metadata": {},
   "outputs": [
    {
     "name": "stdout",
     "output_type": "stream",
     "text": [
      "✅ Model loaded successfully\n"
     ]
    }
   ],
   "source": [
    "# ---- Load Trained Model ----\n",
    "model = joblib.load(\"../models/delay_predictor.pkl\")\n",
    "print(\"✅ Model loaded successfully\")"
   ]
  },
  {
   "cell_type": "code",
   "execution_count": 3,
   "id": "b48853f8",
   "metadata": {},
   "outputs": [
    {
     "name": "stdout",
     "output_type": "stream",
     "text": [
      "Feature columns loaded: 11\n"
     ]
    }
   ],
   "source": [
    "# ---- Load Training Columns ----\n",
    "# (We need the same feature columns as used during training)\n",
    "training_data = pd.read_csv(\"../datasets/processed/final_clean_dataset.csv\")\n",
    "training_data = pd.get_dummies(training_data, columns=[\"FestivalImpact\", \"Weather\", \"TimeOfDay\"], drop_first=True)\n",
    "X_train_columns = training_data.drop(columns=[\"DelayMinutes\", \"Date\", \"StationName\", \"StationCode\", \"ArrivalTime\", \"DepartureTime\"]).columns\n",
    "print(f\"Feature columns loaded: {len(X_train_columns)}\")"
   ]
  },
  {
   "cell_type": "markdown",
   "id": "3d43eab7",
   "metadata": {},
   "source": [
    "#### Prediction Function"
   ]
  },
  {
   "cell_type": "code",
   "execution_count": 4,
   "id": "ddb332e2",
   "metadata": {},
   "outputs": [],
   "source": [
    "# ---- Prediction Function ----\n",
    "def predict_delay(input_data, model=model, feature_columns=X_train_columns):\n",
    "    \"\"\"\n",
    "    Predict delay for a single input sample.\n",
    "\n",
    "    Parameters:\n",
    "        input_data (dict): Example:\n",
    "            {\n",
    "                \"Distance\": 500,\n",
    "                \"Weather\": \"Rain\",\n",
    "                \"FestivalImpact\": \"FestivalEve\",\n",
    "                \"TimeOfDay\": \"Day\"\n",
    "            }\n",
    "        model: Trained RandomForest model\n",
    "        feature_columns: Columns used during training\n",
    "\n",
    "    Returns:\n",
    "        float: Predicted delay in minutes\n",
    "    \"\"\"\n",
    "    # Convert to DataFrame\n",
    "    input_df = pd.DataFrame([input_data])\n",
    "    \n",
    "    # One-hot encode categorical variables\n",
    "    input_df = pd.get_dummies(input_df)\n",
    "    \n",
    "    # Align with training columns\n",
    "    for col in feature_columns:\n",
    "        if col not in input_df.columns:\n",
    "            input_df[col] = 0\n",
    "    input_df = input_df[feature_columns]\n",
    "    \n",
    "    # Predict\n",
    "    prediction = model.predict(input_df)[0]\n",
    "    return prediction\n"
   ]
  },
  {
   "cell_type": "markdown",
   "id": "418ce622",
   "metadata": {},
   "source": [
    "#### Testing"
   ]
  },
  {
   "cell_type": "code",
   "execution_count": 5,
   "id": "9633a330",
   "metadata": {},
   "outputs": [
    {
     "name": "stdout",
     "output_type": "stream",
     "text": [
      "Predicted Delay: 41.13 minutes\n"
     ]
    }
   ],
   "source": [
    "# ---- Example Input ----\n",
    "sample_input = {\n",
    "    \"Distance\": 500,\n",
    "    \"Weather\": \"Rain\",\n",
    "    \"FestivalImpact\": \"FestivalEve\",\n",
    "    \"TimeOfDay\": \"Day\"\n",
    "}\n",
    "\n",
    "predicted_delay = predict_delay(sample_input)\n",
    "print(f\"Predicted Delay: {predicted_delay:.2f} minutes\")"
   ]
  },
  {
   "cell_type": "code",
   "execution_count": 6,
   "id": "19aa4480",
   "metadata": {},
   "outputs": [
    {
     "data": {
      "text/html": [
       "<div>\n",
       "<style scoped>\n",
       "    .dataframe tbody tr th:only-of-type {\n",
       "        vertical-align: middle;\n",
       "    }\n",
       "\n",
       "    .dataframe tbody tr th {\n",
       "        vertical-align: top;\n",
       "    }\n",
       "\n",
       "    .dataframe thead th {\n",
       "        text-align: right;\n",
       "    }\n",
       "</style>\n",
       "<table border=\"1\" class=\"dataframe\">\n",
       "  <thead>\n",
       "    <tr style=\"text-align: right;\">\n",
       "      <th></th>\n",
       "      <th>Distance</th>\n",
       "      <th>Weather</th>\n",
       "      <th>FestivalImpact</th>\n",
       "      <th>TimeOfDay</th>\n",
       "      <th>PredictedDelay</th>\n",
       "    </tr>\n",
       "  </thead>\n",
       "  <tbody>\n",
       "    <tr>\n",
       "      <th>0</th>\n",
       "      <td>250</td>\n",
       "      <td>Clear</td>\n",
       "      <td>None</td>\n",
       "      <td>Morning</td>\n",
       "      <td>13.630467</td>\n",
       "    </tr>\n",
       "    <tr>\n",
       "      <th>1</th>\n",
       "      <td>1200</td>\n",
       "      <td>Fog</td>\n",
       "      <td>FestivalDay</td>\n",
       "      <td>Evening</td>\n",
       "      <td>70.886075</td>\n",
       "    </tr>\n",
       "  </tbody>\n",
       "</table>\n",
       "</div>"
      ],
      "text/plain": [
       "   Distance Weather FestivalImpact TimeOfDay  PredictedDelay\n",
       "0       250   Clear           None   Morning       13.630467\n",
       "1      1200     Fog    FestivalDay   Evening       70.886075"
      ]
     },
     "metadata": {},
     "output_type": "display_data"
    }
   ],
   "source": [
    "# ---- Batch Prediction ----\n",
    "batch_data = [\n",
    "    {\"Distance\": 250, \"Weather\": \"Clear\", \"FestivalImpact\": \"None\", \"TimeOfDay\": \"Morning\"},\n",
    "    {\"Distance\": 1200, \"Weather\": \"Fog\", \"FestivalImpact\": \"FestivalDay\", \"TimeOfDay\": \"Evening\"}\n",
    "]\n",
    "\n",
    "batch_df = pd.DataFrame(batch_data)\n",
    "batch_df[\"PredictedDelay\"] = batch_df.apply(lambda row: predict_delay(row.to_dict()), axis=1)\n",
    "display(batch_df)\n"
   ]
  },
  {
   "cell_type": "code",
   "execution_count": null,
   "id": "a3d76394",
   "metadata": {},
   "outputs": [],
   "source": []
  }
 ],
 "metadata": {
  "kernelspec": {
   "display_name": "Python 3",
   "language": "python",
   "name": "python3"
  },
  "language_info": {
   "codemirror_mode": {
    "name": "ipython",
    "version": 3
   },
   "file_extension": ".py",
   "mimetype": "text/x-python",
   "name": "python",
   "nbconvert_exporter": "python",
   "pygments_lexer": "ipython3",
   "version": "3.12.4"
  }
 },
 "nbformat": 4,
 "nbformat_minor": 5
}
