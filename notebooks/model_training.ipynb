{
 "cells": [
  {
   "cell_type": "markdown",
   "id": "084df7d5",
   "metadata": {},
   "source": [
    "# Model Training"
   ]
  },
  {
   "cell_type": "markdown",
   "id": "a3f10b03",
   "metadata": {},
   "source": [
    "#### Imports"
   ]
  },
  {
   "cell_type": "code",
   "execution_count": 22,
   "id": "960b06bf",
   "metadata": {},
   "outputs": [],
   "source": [
    "import pandas as pd\n",
    "import numpy as np\n",
    "import matplotlib.pyplot as plt\n",
    "import seaborn as sns\n",
    "\n",
    "from sklearn.model_selection import train_test_split\n",
    "from sklearn.ensemble import RandomForestRegressor\n",
    "from sklearn.metrics import  mean_absolute_error, mean_squared_error, r2_score\n",
    "import joblib"
   ]
  },
  {
   "cell_type": "markdown",
   "id": "5cdfff94",
   "metadata": {},
   "source": [
    "#### Load clean Dataset"
   ]
  },
  {
   "cell_type": "code",
   "execution_count": 23,
   "id": "3743ac9d",
   "metadata": {},
   "outputs": [],
   "source": [
    "df = pd.read_csv(\"../datasets/processed/final_clean_dataset.csv\")"
   ]
  },
  {
   "cell_type": "code",
   "execution_count": 24,
   "id": "4b44bf22",
   "metadata": {},
   "outputs": [
    {
     "name": "stdout",
     "output_type": "stream",
     "text": [
      "Shape : (56730, 12)\n"
     ]
    }
   ],
   "source": [
    "print(f\"Shape : {df.shape}\")"
   ]
  },
  {
   "cell_type": "code",
   "execution_count": 25,
   "id": "fcb5f0e8",
   "metadata": {},
   "outputs": [
    {
     "data": {
      "text/html": [
       "<div>\n",
       "<style scoped>\n",
       "    .dataframe tbody tr th:only-of-type {\n",
       "        vertical-align: middle;\n",
       "    }\n",
       "\n",
       "    .dataframe tbody tr th {\n",
       "        vertical-align: top;\n",
       "    }\n",
       "\n",
       "    .dataframe thead th {\n",
       "        text-align: right;\n",
       "    }\n",
       "</style>\n",
       "<table border=\"1\" class=\"dataframe\">\n",
       "  <thead>\n",
       "    <tr style=\"text-align: right;\">\n",
       "      <th></th>\n",
       "      <th>TrainNumber</th>\n",
       "      <th>Date</th>\n",
       "      <th>Distance_x</th>\n",
       "      <th>Weather</th>\n",
       "      <th>FestivalImpact</th>\n",
       "      <th>TimeOfDay</th>\n",
       "      <th>DelayMinutes</th>\n",
       "      <th>StationName</th>\n",
       "      <th>StationCode</th>\n",
       "      <th>ArrivalTime</th>\n",
       "      <th>DepartureTime</th>\n",
       "      <th>Distance_y</th>\n",
       "    </tr>\n",
       "  </thead>\n",
       "  <tbody>\n",
       "    <tr>\n",
       "      <th>0</th>\n",
       "      <td>12002</td>\n",
       "      <td>2024-01-01</td>\n",
       "      <td>690</td>\n",
       "      <td>Fog</td>\n",
       "      <td>1.0</td>\n",
       "      <td>Evening</td>\n",
       "      <td>70</td>\n",
       "      <td>NEW DELHI</td>\n",
       "      <td>NDLS</td>\n",
       "      <td>06:00:00</td>\n",
       "      <td>06:00:00</td>\n",
       "      <td>0</td>\n",
       "    </tr>\n",
       "    <tr>\n",
       "      <th>1</th>\n",
       "      <td>12002</td>\n",
       "      <td>2024-01-01</td>\n",
       "      <td>690</td>\n",
       "      <td>Fog</td>\n",
       "      <td>1.0</td>\n",
       "      <td>Evening</td>\n",
       "      <td>70</td>\n",
       "      <td>MATHURA JN.</td>\n",
       "      <td>MTJ</td>\n",
       "      <td>07:23:00</td>\n",
       "      <td>07:24:00</td>\n",
       "      <td>137</td>\n",
       "    </tr>\n",
       "    <tr>\n",
       "      <th>2</th>\n",
       "      <td>12002</td>\n",
       "      <td>2024-01-01</td>\n",
       "      <td>690</td>\n",
       "      <td>Fog</td>\n",
       "      <td>1.0</td>\n",
       "      <td>Evening</td>\n",
       "      <td>70</td>\n",
       "      <td>AGRA CANTT</td>\n",
       "      <td>AGC</td>\n",
       "      <td>07:57:00</td>\n",
       "      <td>08:02:00</td>\n",
       "      <td>191</td>\n",
       "    </tr>\n",
       "    <tr>\n",
       "      <th>3</th>\n",
       "      <td>12002</td>\n",
       "      <td>2024-01-01</td>\n",
       "      <td>690</td>\n",
       "      <td>Fog</td>\n",
       "      <td>1.0</td>\n",
       "      <td>Evening</td>\n",
       "      <td>70</td>\n",
       "      <td>DHAULPUR</td>\n",
       "      <td>DHO</td>\n",
       "      <td>08:41:00</td>\n",
       "      <td>08:42:00</td>\n",
       "      <td>243</td>\n",
       "    </tr>\n",
       "    <tr>\n",
       "      <th>4</th>\n",
       "      <td>12002</td>\n",
       "      <td>2024-01-01</td>\n",
       "      <td>690</td>\n",
       "      <td>Fog</td>\n",
       "      <td>1.0</td>\n",
       "      <td>Evening</td>\n",
       "      <td>70</td>\n",
       "      <td>MORENA</td>\n",
       "      <td>MRA</td>\n",
       "      <td>09:01:00</td>\n",
       "      <td>09:02:00</td>\n",
       "      <td>259</td>\n",
       "    </tr>\n",
       "  </tbody>\n",
       "</table>\n",
       "</div>"
      ],
      "text/plain": [
       "   TrainNumber        Date  Distance_x Weather  FestivalImpact TimeOfDay  \\\n",
       "0        12002  2024-01-01         690     Fog             1.0   Evening   \n",
       "1        12002  2024-01-01         690     Fog             1.0   Evening   \n",
       "2        12002  2024-01-01         690     Fog             1.0   Evening   \n",
       "3        12002  2024-01-01         690     Fog             1.0   Evening   \n",
       "4        12002  2024-01-01         690     Fog             1.0   Evening   \n",
       "\n",
       "   DelayMinutes  StationName StationCode ArrivalTime DepartureTime  Distance_y  \n",
       "0            70    NEW DELHI        NDLS    06:00:00      06:00:00           0  \n",
       "1            70  MATHURA JN.         MTJ    07:23:00      07:24:00         137  \n",
       "2            70   AGRA CANTT         AGC    07:57:00      08:02:00         191  \n",
       "3            70     DHAULPUR         DHO    08:41:00      08:42:00         243  \n",
       "4            70       MORENA         MRA    09:01:00      09:02:00         259  "
      ]
     },
     "metadata": {},
     "output_type": "display_data"
    }
   ],
   "source": [
    "display(df.head())"
   ]
  },
  {
   "cell_type": "markdown",
   "id": "8976b1dc",
   "metadata": {},
   "source": [
    "#### Encode categorical variables"
   ]
  },
  {
   "cell_type": "code",
   "execution_count": 26,
   "id": "5cad13a6",
   "metadata": {},
   "outputs": [],
   "source": [
    "df_encoded = df.copy()\n",
    "df_encoded = pd.get_dummies(df_encoded, columns=[\"FestivalImpact\", \"Weather\", \"TimeOfDay\"], drop_first=True)"
   ]
  },
  {
   "cell_type": "code",
   "execution_count": 27,
   "id": "e3835478",
   "metadata": {},
   "outputs": [
    {
     "name": "stdout",
     "output_type": "stream",
     "text": [
      "Encoded data Shape: (56730, 17)\n"
     ]
    }
   ],
   "source": [
    "print(f\"Encoded data Shape: {df_encoded.shape}\")"
   ]
  },
  {
   "cell_type": "code",
   "execution_count": 28,
   "id": "2a1139d2",
   "metadata": {},
   "outputs": [
    {
     "data": {
      "text/html": [
       "<div>\n",
       "<style scoped>\n",
       "    .dataframe tbody tr th:only-of-type {\n",
       "        vertical-align: middle;\n",
       "    }\n",
       "\n",
       "    .dataframe tbody tr th {\n",
       "        vertical-align: top;\n",
       "    }\n",
       "\n",
       "    .dataframe thead th {\n",
       "        text-align: right;\n",
       "    }\n",
       "</style>\n",
       "<table border=\"1\" class=\"dataframe\">\n",
       "  <thead>\n",
       "    <tr style=\"text-align: right;\">\n",
       "      <th></th>\n",
       "      <th>TrainNumber</th>\n",
       "      <th>Date</th>\n",
       "      <th>Distance_x</th>\n",
       "      <th>DelayMinutes</th>\n",
       "      <th>StationName</th>\n",
       "      <th>StationCode</th>\n",
       "      <th>ArrivalTime</th>\n",
       "      <th>DepartureTime</th>\n",
       "      <th>Distance_y</th>\n",
       "      <th>FestivalImpact_0.5</th>\n",
       "      <th>FestivalImpact_1.0</th>\n",
       "      <th>Weather_Fog</th>\n",
       "      <th>Weather_Rain</th>\n",
       "      <th>Weather_Storm</th>\n",
       "      <th>TimeOfDay_Evening</th>\n",
       "      <th>TimeOfDay_Morning</th>\n",
       "      <th>TimeOfDay_Night</th>\n",
       "    </tr>\n",
       "  </thead>\n",
       "  <tbody>\n",
       "    <tr>\n",
       "      <th>0</th>\n",
       "      <td>12002</td>\n",
       "      <td>2024-01-01</td>\n",
       "      <td>690</td>\n",
       "      <td>70</td>\n",
       "      <td>NEW DELHI</td>\n",
       "      <td>NDLS</td>\n",
       "      <td>06:00:00</td>\n",
       "      <td>06:00:00</td>\n",
       "      <td>0</td>\n",
       "      <td>False</td>\n",
       "      <td>True</td>\n",
       "      <td>True</td>\n",
       "      <td>False</td>\n",
       "      <td>False</td>\n",
       "      <td>True</td>\n",
       "      <td>False</td>\n",
       "      <td>False</td>\n",
       "    </tr>\n",
       "    <tr>\n",
       "      <th>1</th>\n",
       "      <td>12002</td>\n",
       "      <td>2024-01-01</td>\n",
       "      <td>690</td>\n",
       "      <td>70</td>\n",
       "      <td>MATHURA JN.</td>\n",
       "      <td>MTJ</td>\n",
       "      <td>07:23:00</td>\n",
       "      <td>07:24:00</td>\n",
       "      <td>137</td>\n",
       "      <td>False</td>\n",
       "      <td>True</td>\n",
       "      <td>True</td>\n",
       "      <td>False</td>\n",
       "      <td>False</td>\n",
       "      <td>True</td>\n",
       "      <td>False</td>\n",
       "      <td>False</td>\n",
       "    </tr>\n",
       "    <tr>\n",
       "      <th>2</th>\n",
       "      <td>12002</td>\n",
       "      <td>2024-01-01</td>\n",
       "      <td>690</td>\n",
       "      <td>70</td>\n",
       "      <td>AGRA CANTT</td>\n",
       "      <td>AGC</td>\n",
       "      <td>07:57:00</td>\n",
       "      <td>08:02:00</td>\n",
       "      <td>191</td>\n",
       "      <td>False</td>\n",
       "      <td>True</td>\n",
       "      <td>True</td>\n",
       "      <td>False</td>\n",
       "      <td>False</td>\n",
       "      <td>True</td>\n",
       "      <td>False</td>\n",
       "      <td>False</td>\n",
       "    </tr>\n",
       "    <tr>\n",
       "      <th>3</th>\n",
       "      <td>12002</td>\n",
       "      <td>2024-01-01</td>\n",
       "      <td>690</td>\n",
       "      <td>70</td>\n",
       "      <td>DHAULPUR</td>\n",
       "      <td>DHO</td>\n",
       "      <td>08:41:00</td>\n",
       "      <td>08:42:00</td>\n",
       "      <td>243</td>\n",
       "      <td>False</td>\n",
       "      <td>True</td>\n",
       "      <td>True</td>\n",
       "      <td>False</td>\n",
       "      <td>False</td>\n",
       "      <td>True</td>\n",
       "      <td>False</td>\n",
       "      <td>False</td>\n",
       "    </tr>\n",
       "    <tr>\n",
       "      <th>4</th>\n",
       "      <td>12002</td>\n",
       "      <td>2024-01-01</td>\n",
       "      <td>690</td>\n",
       "      <td>70</td>\n",
       "      <td>MORENA</td>\n",
       "      <td>MRA</td>\n",
       "      <td>09:01:00</td>\n",
       "      <td>09:02:00</td>\n",
       "      <td>259</td>\n",
       "      <td>False</td>\n",
       "      <td>True</td>\n",
       "      <td>True</td>\n",
       "      <td>False</td>\n",
       "      <td>False</td>\n",
       "      <td>True</td>\n",
       "      <td>False</td>\n",
       "      <td>False</td>\n",
       "    </tr>\n",
       "  </tbody>\n",
       "</table>\n",
       "</div>"
      ],
      "text/plain": [
       "   TrainNumber        Date  Distance_x  DelayMinutes  StationName StationCode  \\\n",
       "0        12002  2024-01-01         690            70    NEW DELHI        NDLS   \n",
       "1        12002  2024-01-01         690            70  MATHURA JN.         MTJ   \n",
       "2        12002  2024-01-01         690            70   AGRA CANTT         AGC   \n",
       "3        12002  2024-01-01         690            70     DHAULPUR         DHO   \n",
       "4        12002  2024-01-01         690            70       MORENA         MRA   \n",
       "\n",
       "  ArrivalTime DepartureTime  Distance_y  FestivalImpact_0.5  \\\n",
       "0    06:00:00      06:00:00           0               False   \n",
       "1    07:23:00      07:24:00         137               False   \n",
       "2    07:57:00      08:02:00         191               False   \n",
       "3    08:41:00      08:42:00         243               False   \n",
       "4    09:01:00      09:02:00         259               False   \n",
       "\n",
       "   FestivalImpact_1.0  Weather_Fog  Weather_Rain  Weather_Storm  \\\n",
       "0                True         True         False          False   \n",
       "1                True         True         False          False   \n",
       "2                True         True         False          False   \n",
       "3                True         True         False          False   \n",
       "4                True         True         False          False   \n",
       "\n",
       "   TimeOfDay_Evening  TimeOfDay_Morning  TimeOfDay_Night  \n",
       "0               True              False            False  \n",
       "1               True              False            False  \n",
       "2               True              False            False  \n",
       "3               True              False            False  \n",
       "4               True              False            False  "
      ]
     },
     "execution_count": 28,
     "metadata": {},
     "output_type": "execute_result"
    }
   ],
   "source": [
    "df_encoded.head()"
   ]
  },
  {
   "cell_type": "markdown",
   "id": "825830a8",
   "metadata": {},
   "source": [
    "#### Feature Selection and Split"
   ]
  },
  {
   "cell_type": "code",
   "execution_count": 29,
   "id": "408c35b4",
   "metadata": {},
   "outputs": [],
   "source": [
    "# ========== Feature Selection ==========\n",
    "X = df_encoded.drop(columns=[\"DelayMinutes\", \"Date\", \"StationName\", \"StationCode\", \"ArrivalTime\", \"DepartureTime\"])\n",
    "y = df_encoded[\"DelayMinutes\"]\n",
    "\n",
    "# ========== Train- test Split ==========\n",
    "X_train, X_test, y_train, y_test = train_test_split(X, y, test_size=0.2, random_state=42)"
   ]
  },
  {
   "cell_type": "code",
   "execution_count": 30,
   "id": "041a181e",
   "metadata": {},
   "outputs": [
    {
     "name": "stdout",
     "output_type": "stream",
     "text": [
      "Train set Shape: (45384, 11)\n"
     ]
    }
   ],
   "source": [
    "print(f\"Train set Shape: {X_train.shape}\")"
   ]
  },
  {
   "cell_type": "code",
   "execution_count": 31,
   "id": "c30e59b8",
   "metadata": {},
   "outputs": [
    {
     "name": "stdout",
     "output_type": "stream",
     "text": [
      "Test set Shape: (11346, 11)\n"
     ]
    }
   ],
   "source": [
    "print(f\"Test set Shape: {X_test.shape}\")"
   ]
  },
  {
   "cell_type": "markdown",
   "id": "329e6f92",
   "metadata": {},
   "source": [
    "#### Model Training"
   ]
  },
  {
   "cell_type": "code",
   "execution_count": 32,
   "id": "02a5d7c0",
   "metadata": {},
   "outputs": [
    {
     "name": "stdout",
     "output_type": "stream",
     "text": [
      "✅Model Training Complete\n"
     ]
    }
   ],
   "source": [
    "# ========== Train Random Forest Regressor ==========\n",
    "rf = RandomForestRegressor(n_estimators=100, random_state=42)\n",
    "rf.fit(X_train, y_train)\n",
    "\n",
    "print(\"✅Model Training Complete\")"
   ]
  },
  {
   "cell_type": "markdown",
   "id": "53db1680",
   "metadata": {},
   "source": [
    "#### Model Evaluation"
   ]
  },
  {
   "cell_type": "code",
   "execution_count": 33,
   "id": "5c3fc55e",
   "metadata": {},
   "outputs": [
    {
     "name": "stdout",
     "output_type": "stream",
     "text": [
      "MAE: 11.40\n",
      "RMSE: 14.47\n",
      "R2: 0.79\n"
     ]
    }
   ],
   "source": [
    "# ---------- Predictions ----------\n",
    "y_pred = rf.predict(X_test)\n",
    "\n",
    "# ---------- Evaluation ----------\n",
    "mae = mean_absolute_error(y_test, y_pred)\n",
    "rmse = np.sqrt(mean_squared_error(y_test, y_pred))\n",
    "r2 = r2_score(y_test, y_pred)\n",
    "\n",
    "print(f\"MAE: {mae:.2f}\")\n",
    "print(f\"RMSE: {rmse:.2f}\")\n",
    "print(f\"R2: {r2:.2f}\")"
   ]
  },
  {
   "cell_type": "code",
   "execution_count": 34,
   "id": "7e5a348f",
   "metadata": {},
   "outputs": [
    {
     "data": {
      "image/png": "[encoded data removed]",
      "text/plain": [
       "<Figure size 800x500 with 1 Axes>"
      ]
     },
     "metadata": {},
     "output_type": "display_data"
    }
   ],
   "source": [
    "# ---------- Feature Importance ----------\n",
    "importances = rf.feature_importances_\n",
    "feature_names = X_train.columns\n",
    "feat_imp = pd.DataFrame({\"Feature\": feature_names, \"Importance\": importances}).sort_values(by=\"Importance\", ascending=False)\n",
    "\n",
    "plt.figure(figsize=(8, 5))\n",
    "sns.barplot(x=\"Importance\", y=\"Feature\", data=feat_imp)\n",
    "plt.title(\"Feature Importance\")\n",
    "plt.show()"
   ]
  },
  {
   "cell_type": "markdown",
   "id": "43f613db",
   "metadata": {},
   "source": [
    "#### Save Model"
   ]
  },
  {
   "cell_type": "code",
   "execution_count": 35,
   "id": "e7134d7d",
   "metadata": {},
   "outputs": [
    {
     "name": "stdout",
     "output_type": "stream",
     "text": [
      "✅Model saved to ../models/delay_predictor.pkl\n"
     ]
    }
   ],
   "source": [
    "joblib.dump(rf, \"../models/delay_predictor.pkl\")\n",
    "print(\"✅Model saved to ../models/delay_predictor.pkl\")"
   ]
  }
 ],
 "metadata": {
  "kernelspec": {
   "display_name": "Python 3",
   "language": "python",
   "name": "python3"
  },
  "language_info": {
   "codemirror_mode": {
    "name": "ipython",
    "version": 3
   },
   "file_extension": ".py",
   "mimetype": "text/x-python",
   "name": "python",
   "nbconvert_exporter": "python",
   "pygments_lexer": "ipython3",
   "version": "3.12.4"
  }
 },
 "nbformat": 4,
 "nbformat_minor": 5
}
